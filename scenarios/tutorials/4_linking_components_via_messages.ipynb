{
 "cells": [
  {
   "cell_type": "markdown",
   "id": "a9f5996f9e4d5ef",
   "metadata": {
    "collapsed": false
   },
   "source": [
    "## Linking Components with Messages\n",
    "In this demo, you will learn how components can be linked together using messages. We will do this by extending the power system generated in the previous demo to include a reaction wheel that consumes power. This demo involves the following steps:\n",
    "1. Define the power consumption properties of the reaction wheels.\n",
    "2. Replace the guidance computer with manually defined flight software components.\n",
    "2. Link the power system and the reaction wheel using messages\n",
    "3. Plot the power consumption of the reaction wheels."
   ]
  },
  {
   "cell_type": "code",
   "execution_count": 1,
   "id": "af5ecba6e13e3761",
   "metadata": {
    "ExecuteTime": {
     "end_time": "2024-09-06T07:13:50.376864Z",
     "start_time": "2024-09-06T07:13:48.998214Z"
    },
    "collapsed": false
   },
   "outputs": [],
   "source": [
    "# zendir imports\n",
    "from zendir import Credentials, Simulation, System, Object\n",
    "from zendir.maths import astro\n",
    "# other imports\n",
    "from datetime import datetime\n",
    "import numpy as np\n",
    "import matplotlib.pyplot as plt"
   ]
  },
  {
   "cell_type": "markdown",
   "id": "e69975b7b74a323f",
   "metadata": {
    "collapsed": false
   },
   "source": [
    "### Authenticate your zendir access\n"
   ]
  },
  {
   "cell_type": "code",
   "execution_count": 2,
   "id": "7f2b4f6e01bb5021",
   "metadata": {
    "ExecuteTime": {
     "end_time": "2024-09-06T07:15:24.272315Z",
     "start_time": "2024-09-06T07:13:50.377868Z"
    },
    "collapsed": false
   },
   "outputs": [],
   "source": [
    "# Construct the credentials\n",
    "credentials = Credentials(access=\"API ACCESS KEY\")\n",
    "\n",
    "simulation: Simulation = Simulation.get(credentials)"
   ]
  },
  {
   "cell_type": "markdown",
   "id": "3121544309e1e106",
   "metadata": {
    "collapsed": false
   },
   "source": [
    "### Setup the spacecraft and components\n",
    "The following cells configure the spacecraft and its components. For more details, please refer to the Power System demo."
   ]
  },
  {
   "cell_type": "code",
   "execution_count": 3,
   "id": "fea0c69b669867bb",
   "metadata": {
    "ExecuteTime": {
     "end_time": "2024-09-06T07:15:28.754621Z",
     "start_time": "2024-09-06T07:15:24.273324Z"
    },
    "collapsed": false
   },
   "outputs": [],
   "source": [
    "# universe configuration parameters\n",
    "epoch = datetime(2023, 1, 1)\n",
    "\n",
    "# get the universe associated with our simulation, setting it with a desired epoch\n",
    "universe: System = simulation.get_system(\n",
    "    \"SolarSystem\",\n",
    "    Epoch=epoch\n",
    ")"
   ]
  },
  {
   "cell_type": "code",
   "execution_count": 4,
   "id": "8bdb3da162dceb4c",
   "metadata": {
    "ExecuteTime": {
     "end_time": "2024-09-06T07:15:28.761208Z",
     "start_time": "2024-09-06T07:15:28.756161Z"
    },
    "collapsed": false
   },
   "outputs": [],
   "source": [
    "# satellite configuration parameters\n",
    "mass = 750  # kg\n",
    "center_of_mass = np.array([0.0, 0.0, 0.0])  # m\n",
    "moment_of_inertia = np.diag([900, 800, 600])  # kg m^2\n",
    "\n",
    "semi_major_axis = 7000e3  # m\n",
    "eccentricity = 0.001\n",
    "inclination = 97.5  # deg\n",
    "raan = 5  # deg\n",
    "arg_perigee = 10  # deg\n",
    "true_anomaly = 20  # deg\n",
    "\n",
    "# initial attitude and rate, defined in modified rodriquez parameters\n",
    "attitude = np.array([0.1, 0.2, -0.3])\n",
    "attitude_rate = np.array([0.001, -0.01, 0.03])"
   ]
  },
  {
   "cell_type": "code",
   "execution_count": 5,
   "id": "8a56a5bce825451a",
   "metadata": {
    "ExecuteTime": {
     "end_time": "2024-09-06T07:15:29.096470Z",
     "start_time": "2024-09-06T07:15:28.763213Z"
    },
    "collapsed": false
   },
   "outputs": [],
   "source": [
    "# convert the classical orbital elements to state vectors, using zendir's utility functions, to help initialise the orbit\n",
    "orbit: tuple = astro.classical_to_vector_elements_deg(\n",
    "    semi_major_axis=semi_major_axis,\n",
    "    eccentricity=eccentricity,\n",
    "    inclination=inclination,\n",
    "    right_ascension=raan,\n",
    "    argument_of_periapsis=arg_perigee,\n",
    "    true_anomaly=true_anomaly,\n",
    ")\n",
    "\n",
    "# add the satellite object to the simulation\n",
    "# zendir can either hard-set the mass, center of mass, and moment of inertia properties of the spacecraft; or calculate them based on attached components. In this simple case, we will hard-set the by setting the OverrideMass property to True.\n",
    "spacecraft: Object = simulation.add_object(\n",
    "    \"Spacecraft\",\n",
    "    TotalMass=mass,\n",
    "    TotalCenterOfMassB_B=center_of_mass,  # com of mass of the spacecraft in the body frame\n",
    "    TotalMomentOfInertiaB_B=moment_of_inertia,  # moment of inertia of the spacecraft in the body frame\n",
    "    OverrideMass=True,\n",
    "    Position=orbit[0],\n",
    "    Velocity=orbit[1],\n",
    "    Attitude=attitude,\n",
    "    AttitudeRate=attitude_rate,\n",
    ")"
   ]
  },
  {
   "cell_type": "code",
   "execution_count": 6,
   "id": "c415807184bf4955",
   "metadata": {
    "ExecuteTime": {
     "end_time": "2024-09-06T07:15:30.045485Z",
     "start_time": "2024-09-06T07:15:29.097485Z"
    },
    "collapsed": false
   },
   "outputs": [],
   "source": [
    "# Adds a reaction wheel array as a child component of the spacecraft. The reaction wheel array makes tracking data for individual reaction wheels much easier.\n",
    "reaction_wheels: Object = spacecraft.add_child(\"ReactionWheelArray\")\n",
    "\n",
    "# Adds individual reaction wheels to the reaction wheel array using the same add_child method. The reaction wheels are initialised within default properties such as max wheel speed, max torque, etc... These properties can be overridden by setting the desired properties in the add_child method. In this case, we set the wheel spin axes to be aligned with the body frame axes.\n",
    "rw1: Object = reaction_wheels.add_child(\n",
    "    \"ReactionWheel\",\n",
    "    WheelSpinAxis_B=np.array([1, 0, 0])\n",
    ")\n",
    "rw2: Object = reaction_wheels.add_child(\n",
    "    \"ReactionWheel\",\n",
    "    WheelSpinAxis_B=np.array([0, 1, 0])\n",
    ")\n",
    "rw3: Object = reaction_wheels.add_child(\n",
    "    \"ReactionWheel\",\n",
    "    WheelSpinAxis_B=np.array([0, 0, 1])\n",
    ")"
   ]
  },
  {
   "cell_type": "markdown",
   "id": "191fbd0940e58f81",
   "metadata": {
    "collapsed": false
   },
   "source": [
    "### Add the power components"
   ]
  },
  {
   "cell_type": "code",
   "execution_count": 7,
   "id": "6d6c994dd48bb64f",
   "metadata": {
    "ExecuteTime": {
     "end_time": "2024-09-06T07:15:31.218912Z",
     "start_time": "2024-09-06T07:15:30.046499Z"
    },
    "collapsed": false
   },
   "outputs": [],
   "source": [
    "# Adds a solar panel\n",
    "solar_panel = spacecraft.add_child(\n",
    "    \"SolarPanel\",\n",
    "    Area=0.014,\n",
    "    Efficiency=0.23\n",
    ")\n",
    "solar_panel.invoke(\"RollDegrees\", 90.0)\n",
    "\n",
    "# Add in a battery. The battery will be set to default battery capacity and other parameters will be set to default values unless overwritten. We will overwrite the ChargeFraction.\n",
    "battery = spacecraft.add_child(\n",
    "    \"Battery\",\n",
    "    ChargeFraction=0.8\n",
    ")\n",
    "\n",
    "# Add in a power bus and connect up the solar panel and battery\n",
    "bus = spacecraft.add_child(\n",
    "    \"PowerBus\",\n",
    ")"
   ]
  },
  {
   "cell_type": "markdown",
   "id": "2f6310480336dea0",
   "metadata": {
    "collapsed": false
   },
   "source": [
    "## 1. Define the power consumption properties of the reaction wheel\n",
    "\n",
    "The reaction wheel components, have a power model that allows the user to define the power consumption properties of the wheels. "
   ]
  },
  {
   "cell_type": "code",
   "execution_count": 8,
   "id": "767280ce3b46674c",
   "metadata": {
    "ExecuteTime": {
     "end_time": "2024-09-06T07:15:32.829799Z",
     "start_time": "2024-09-06T07:15:31.219926Z"
    },
    "collapsed": false
   },
   "outputs": [],
   "source": [
    "# Connect battery to power bus\n",
    "bus.invoke(\"Connect\", solar_panel, battery)\n",
    "# Connect battery to reaction wheels\n",
    "bus.invoke(\n",
    "    \"Connect\",\n",
    "    battery,\n",
    "    reaction_wheels\n",
    ")\n",
    "\n",
    "# Fetch the power model from the reaction wheel object\n",
    "rw_motor_power_model = reaction_wheels.get_model(\"ReactionWheelArrayPowerModel\")\n",
    "\n",
    "# Use a lookup table approach to define the power consumption properties of the reaction wheels based on (voltage command [V], power draw [W]). We do this by invoking a method that will update the object in-place.\n",
    "rw_motor_power_model.invoke(\"AddLookupTableEntry\", 0.1, 0.1)\n",
    "rw_motor_power_model.invoke(\"AddLookupTableEntry\", 3.0, 5.0)\n",
    "rw_motor_power_model.invoke(\"AddLookupTableEntry\", 10.0, 20.0)\n",
    "rw_motor_power_model.invoke(\"AddLookupTableEntry\", 20.0, 50.0)"
   ]
  },
  {
   "cell_type": "markdown",
   "id": "e9b440c6b8da74a4",
   "metadata": {
    "collapsed": false
   },
   "source": [
    "## 2. Replace the guidance computer with manually defined flight software components\n",
    "This architecture allows component modules to exchange data with each other using messages. Each component has a set of input and output messages that can be connected to other components. The following cells replace the guidance computer with manually defined flight software components and demonstrates the use of input (In_) and output (Out_) messages to link the components.\n",
    "\n",
    "To find a full list of components, their messages, and other properties, please search for them in the API Reference at (https://docs.nominalsys.com/v0.9/api/index.html).\n",
    "\n",
    "#### Adding Software Components as \"Behaviours\"\n",
    "You may notice that the flight software modules, such as SimpleNavigationSoftware component, are added to the spacecraft using an add_behaviour method instead of .add_child(). This is because the flight software components don't have a physical representation, mass, inertia or other physical properties, and so, is categorised differently to other objects in the simulation."
   ]
  },
  {
   "cell_type": "code",
   "execution_count": 9,
   "id": "1a8acde37bae5792",
   "metadata": {
    "ExecuteTime": {
     "end_time": "2024-09-06T07:15:36.205748Z",
     "start_time": "2024-09-06T07:15:32.830814Z"
    },
    "collapsed": false
   },
   "outputs": [],
   "source": [
    "# Add the simple navigator flight software module which will give us the spacecraft's state and attitude\n",
    "navigator: Object = spacecraft.add_behaviour(\"SimpleNavigationSoftware\")\n",
    "\n",
    "# Add ephemeris navigation software which will give us the planet's state\n",
    "# here, the PlanetEphemerisTranslationSoftware has in input In_PlanetStateMsg which can be linked to the Out_PlanetStateMsg of the planet object accessed from the simulation. The linking of the messages allows the software module to track the simulated state of the planet according to the time and other properties of the simulation.\n",
    "ephemeris_fsw: Object = spacecraft.add_behaviour(\n",
    "    \"PlanetEphemerisTranslationSoftware\",\n",
    "    In_PlanetStateMsg=simulation.get_planet(\"earth\").get_message(\"Out_PlanetStateMsg\")\n",
    ")\n",
    "\n",
    "# Add nadir pointing software, this flight software module will translate the known state of the spacecraft (from the simple navigation module) and the planet (from the PlanetEphemerisTranslationSoftware) into desired attitude guidance. Therefore, we link its required input messages to the output messages of software modules on which it depends.\n",
    "lvlh_fsw: Object = spacecraft.add_behaviour(\n",
    "    \"NadirPointingSoftware\",\n",
    "    In_NavigationTranslationMsg=navigator.get_message(\"Out_NavigationTranslationMsg\"),\n",
    "    In_EphemerisMsg=ephemeris_fsw.get_message(\"Out_EphemerisMsg\")\n",
    ")\n",
    "\n",
    "# Add attitude reference error software, converts the spacecraft's current attitude to the desired attitude into an error signal that can be fed into future flight software modules.\n",
    "attitude_tracking_error_fsw: Object = spacecraft.add_behaviour(\n",
    "    \"AttitudeReferenceErrorSoftware\",\n",
    "    In_NavigationAttitudeMsg=navigator.get_message(\"Out_NavigationAttitudeMsg\"),  # input the current attitude of the spacecraft from the output message of the simple navigator\n",
    "    In_AttitudeReferenceMsg=lvlh_fsw.get_message(\"Out_AttitudeReferenceMsg\")  # input the \n",
    ")\n",
    "\n",
    "# Add MRP feedback control software, this is a PID controller that will take input from the attitude tracking error software and output from the reaction wheels.\n",
    "mrp_feedback_fsw: Object = spacecraft.add_behaviour(\n",
    "    \"MRPFeedbackControlSoftware\",\n",
    "    K=3.5,\n",
    "    P=30.0,\n",
    "    Ki=-1.0,\n",
    "    IntegralLimit=2.0 / -1.0 * 0.1,\n",
    "    In_AttitudeErrorMsg=attitude_tracking_error_fsw.get_message(\"Out_AttitudeErrorMsg\"),  # input the attitude error from the attitude tracking error software\n",
    "    In_RWArraySpeedMsg=reaction_wheels.get_message(\"Out_RWArraySpeedMsg\"),  # input the speed of the reaction wheels from the reaction wheel array\n",
    "    In_RWArrayConfigMsg=reaction_wheels.get_message(\"Out_RWArrayConfigMsg\")  # input the configuration of the reaction wheel array\n",
    ")\n",
    "\n",
    "# Add reaction wheel motor torque software, this software module converts the output of the MRP feedback control software into motor torques that can be applied to the reaction wheels.\n",
    "rw_motor_torque_fsw: Object = spacecraft.add_behaviour(\n",
    "    \"RWTorqueMappingSoftware\",\n",
    "    In_RWArrayConfigMsg=reaction_wheels.get_message(\"Out_RWArrayConfigMsg\"),\n",
    "    ControlAxes_B=np.array([[1, 0, 0], [0, 1, 0], [0, 0, 1]]),\n",
    "    In_CommandTorqueMsg=mrp_feedback_fsw.get_message(\"Out_CommandTorqueMsg\"),\n",
    ")\n",
    "\n",
    "# in this demo we want to change pointing modes to Sun pointing. Therefore, prepare the Sun pointing software module to remap the software modules after we propagate.\n",
    "# Add the Sun pointing software\n",
    "sun_point = spacecraft.add_behaviour(\n",
    "    \"SunSafePointingSoftware\",\n",
    "    MinUnitMag=0.001,\n",
    "    SmallAngle=0.001,\n",
    "    SunBodyVector=solar_panel.get(\"RelativeNormal\"),\n",
    "    Omega_RN_B=np.array([0, 0, 0]),\n",
    "    SunAxisSpinRate=0.0,\n",
    "    In_NavigationAttitudeMsg=navigator.get_message(\"Out_NavigationAttitudeMsg\"),\n",
    "    In_SunDirectionMsg=navigator.get_message(\"Out_NavigationAttitudeMsg\"),\n",
    ")"
   ]
  },
  {
   "cell_type": "markdown",
   "id": "fc22f5c82b5d93d3",
   "metadata": {
    "collapsed": false
   },
   "source": [
    "## 3. Link the power system and the reaction wheel using messages\n",
    " Connect the power consumption properties of the reaction wheels to other flight software modules using messages. Done using a simular approach to the flight software above, we link the power consumption properties of the reaction wheels to the power system using messages. The types of input messages that the modules require and provide, can be found within the API Reference. An example of the API Reference for the RWVoltageMappingSoftware can be seen below."
   ]
  },
  {
   "cell_type": "markdown",
   "id": "1ed4393c00750520",
   "metadata": {
    "collapsed": false
   },
   "source": [
    "![API Reference for RWVoltageMappingSoftware](./markdown/4_linking_components_via_messages/rwvoltagemappingsoftware_docs.png)]"
   ]
  },
  {
   "cell_type": "code",
   "execution_count": 10,
   "id": "fe45d1dff9ce1d9e",
   "metadata": {
    "ExecuteTime": {
     "end_time": "2024-09-06T07:15:38.569906Z",
     "start_time": "2024-09-06T07:15:36.206706Z"
    },
    "collapsed": false
   },
   "outputs": [],
   "source": [
    "# Add reaction wheel motor voltage software as a behaviour\n",
    "rw_motor_voltage_fsw: Object = spacecraft.add_behaviour(\n",
    "    \"RWVoltageMappingSoftware\",\n",
    "    In_RWArrayConfigMsg=reaction_wheels.get_message(\"Out_RWArrayConfigMsg\"),\n",
    "    In_RWArraySpeedMsg=reaction_wheels.get_message(\"Out_RWArraySpeedMsg\"),\n",
    "    MaxVoltage=10,\n",
    "    MinVoltage=0,\n",
    "    In_MotorTorqueArrayMsg=rw_motor_torque_fsw.get_message(\"Out_MotorTorqueArrayMsg\")\n",
    ")\n",
    "\n",
    "# Connect power model\n",
    "rw_motor_power_model.set(\n",
    "    In_MotorVoltageArrayMsg=rw_motor_voltage_fsw.get_message(\"Out_MotorVoltageArrayMsg\")\n",
    ")\n",
    "\n",
    "# Add motor voltage device interface\n",
    "rw_voltage_io: Object = spacecraft.add_behaviour(\n",
    "    \"VoltageTorqueConversionSoftware\",\n",
    "    Gain=np.array([0.02, 0.02, 0.02]),\n",
    "    In_MotorVoltageArrayMsg=rw_motor_power_model.get_message(\"Out_MotorVoltageArrayMsg\")\n",
    ")\n",
    "\n",
    "# Connect reaction wheels to motor torque message\n",
    "reaction_wheels.set(\n",
    "    In_MotorTorqueArrayMsg=rw_voltage_io.get_message(\"Out_MotorTorqueArrayMsg\")\n",
    ")"
   ]
  },
  {
   "cell_type": "code",
   "execution_count": 11,
   "id": "2388162a57849177",
   "metadata": {
    "ExecuteTime": {
     "end_time": "2024-09-06T07:15:42.426293Z",
     "start_time": "2024-09-06T07:15:38.570911Z"
    },
    "collapsed": false
   },
   "outputs": [],
   "source": [
    "# subscribe to the data\n",
    "# set the interval (in seconds) at which data is polled.\n",
    "simulation.set_tracking_interval(interval=30)\n",
    "\n",
    "# each object, system, and simulation contain data messages that can be subscribed to. Messages associated with each object can be found in the zendir documentation.\n",
    "simulation.track_object(attitude_tracking_error_fsw.get_message(\"Out_AttitudeErrorMsg\"))\n",
    "simulation.track_object(spacecraft.get_message(\"Out_SpacecraftStateMsg\"))\n",
    "\n",
    "# subscribe to the power system messages\n",
    "simulation.track_object(battery.get_message(\"Out_BatteryMsg\"))\n",
    "simulation.track_object(solar_panel.get_message(\"Out_PowerMsg\"))\n",
    "simulation.track_object(rw_motor_power_model.get_message(\"Out_MotorVoltageArrayMsg\"))\n",
    "simulation.track_object(solar_panel.get_model(\"Universe.SolarModel\").get_message(\"Out_EclipseMsg\"))\n",
    "simulation.track_object(sun_point.get_message(\"Out_AttitudeErrorMsg\"))"
   ]
  },
  {
   "cell_type": "code",
   "execution_count": 12,
   "id": "659319c13b580be2",
   "metadata": {
    "ExecuteTime": {
     "end_time": "2024-09-06T07:15:51.292546Z",
     "start_time": "2024-09-06T07:15:42.427300Z"
    },
    "collapsed": false
   },
   "outputs": [],
   "source": [
    "duration = 4000  # sec\n",
    "time_step = 0.1  # sec\n",
    "simulation.tick_duration(step=time_step, time=duration)"
   ]
  },
  {
   "cell_type": "markdown",
   "id": "b4f5d80d203e1da5",
   "metadata": {
    "collapsed": false
   },
   "source": [
    "#### Remapping the MRP feedback controller to the Sun pointing software"
   ]
  },
  {
   "cell_type": "code",
   "execution_count": 13,
   "id": "6944b0b5eadf48b5",
   "metadata": {
    "ExecuteTime": {
     "end_time": "2024-09-06T07:15:51.466310Z",
     "start_time": "2024-09-06T07:15:51.293550Z"
    },
    "collapsed": false
   },
   "outputs": [],
   "source": [
    "# Our attitude control flight software is already linked to the existing mrp_feedback_fsw object. Therefore, we have to update the properties of that existing object by using the set() method. In this case we will update its attitude error message to the Sun pointing software's attitude error message.\n",
    "mrp_feedback_fsw.set(In_AttitudeErrorMsg=sun_point.get_message(\"Out_AttitudeErrorMsg\"))"
   ]
  },
  {
   "cell_type": "code",
   "execution_count": 14,
   "id": "cdd48aa21a50df6",
   "metadata": {
    "ExecuteTime": {
     "end_time": "2024-09-06T07:15:59.974215Z",
     "start_time": "2024-09-06T07:15:51.472322Z"
    },
    "collapsed": false
   },
   "outputs": [],
   "source": [
    "simulation.tick_duration(step=time_step, time=duration)"
   ]
  },
  {
   "cell_type": "markdown",
   "id": "4115dc3ad4c38c93",
   "metadata": {
    "collapsed": false
   },
   "source": [
    "## 4. Plot the power consumption of the reaction wheels"
   ]
  },
  {
   "cell_type": "markdown",
   "id": "d2e5c0988b441a33",
   "metadata": {
    "collapsed": false
   },
   "source": [
    "### Plotting the battery capacity\n",
    "When we plot the battery capacity we expect to see changes in the rate of charge based on the changing exposure of the solar panels to the Sun due to changes in the spacecraft's pointing mode and its orbit."
   ]
  },
  {
   "cell_type": "code",
   "execution_count": null,
   "id": "2580cef3742813bb",
   "metadata": {
    "ExecuteTime": {
     "end_time": "2024-09-06T07:16:00.776919Z",
     "start_time": "2024-09-06T07:15:59.975728Z"
    },
    "collapsed": false
   },
   "outputs": [],
   "source": [
    "# get the battery data\n",
    "df_battery = simulation.query_dataframe(battery.get_message(\"Out_BatteryMsg\"))\n",
    "\n",
    "# create two side-by-side plots, one plotting the battery capacity and the other plotting the power produced by the solar panels\n",
    "fig, ax = plt.subplots(2, 1, figsize=(10, 10))\n",
    "\n",
    "# plot the battery capacity\n",
    "ax[0].plot(df_battery.loc[:, \"Time\"], df_battery.loc[:, \"ChargeFraction\"])\n",
    "ax[0].set_xlabel(\"Time (s)\")\n",
    "ax[0].set_ylabel(\"Battery Charge Fraction\")\n",
    "# Add background shading to indicate the first half of the simulation as nadir pointing and the second half as sun pointing\n",
    "ax[0].axvspan(0, duration, color='gray', alpha=0.1)\n",
    "ax[0].axvspan(duration, 2 * duration, color='yellow', alpha=0.1)\n",
    "# add a legend\n",
    "ax[0].legend([\"Battery Charge Fraction\", \"Nadir Pointing\", \"Sun Pointing\"])\n",
    "\n",
    "# plot the solar panel power and power out of the battery\n",
    "df_solar_panel = simulation.query_dataframe(solar_panel.get_message(\"Out_PowerMsg\"))\n",
    "ax[1].plot(df_solar_panel.loc[:, \"Time\"], df_solar_panel.loc[:, \"Power\"])\n",
    "ax[1].set_xlabel(\"Time (s)\")\n",
    "ax[1].set_ylabel(\"Solar Panel Power (W)\")\n",
    "\n",
    "# Add background shading to indicate the first half of the simulation as nadir pointing and the second half as sun pointing\n",
    "ax[1].axvspan(0, duration, color='gray', alpha=0.1)\n",
    "ax[1].axvspan(duration, 2 * duration, color='yellow', alpha=0.1)\n",
    "# add a legend\n",
    "ax[1].legend([\"Solar Panel Power\", \"Nadir Pointing\", \"Sun Pointing\"])"
   ]
  },
  {
   "cell_type": "code",
   "execution_count": null,
   "id": "5debdbf9b4649b98",
   "metadata": {
    "ExecuteTime": {
     "end_time": "2024-09-06T07:40:54.964340Z",
     "start_time": "2024-09-06T07:40:52.327215Z"
    },
    "collapsed": false
   },
   "outputs": [],
   "source": [
    "# plot the attitude error from the Sun pointing software and the attitude tracking error software\n",
    "df_attitude_error = simulation.query_dataframe(sun_point.get_message(\"Out_AttitudeErrorMsg\"))\n",
    "df_attitude_tracking_error = simulation.query_dataframe(attitude_tracking_error_fsw.get_message(\"Out_AttitudeErrorMsg\"))\n",
    "\n",
    "# plot the SimpleNavigationSoftwarem of the attitude error |[Sigma_BR_0, Sigma_BR_1, Sigma_BR_2]|\n",
    "# calculate the Euclidean norm of the attitude error\n",
    "df_attitude_error[\"Sigma_BR\"] = np.linalg.norm(df_attitude_error.loc[:, [\"Sigma_BR_0\", \"Sigma_BR_1\", \"Sigma_BR_2\"]], axis=1)\n",
    "df_attitude_tracking_error[\"Sigma_BR\"] = np.linalg.norm(df_attitude_tracking_error.loc[:, [\"Sigma_BR_0\", \"Sigma_BR_1\", \"Sigma_BR_2\"]], axis=1)\n",
    "\n",
    "fig, ax = plt.subplots(figsize=(10, 5))\n",
    "ax.plot(df_attitude_error.loc[:, \"Time\"], df_attitude_error.loc[:, \"Sigma_BR\"])\n",
    "ax.plot(df_attitude_tracking_error.loc[:, \"Time\"], df_attitude_tracking_error.loc[:, \"Sigma_BR\"])\n",
    "ax.set_xlabel(\"Time (s)\")\n",
    "ax.set_ylabel(\"Attitude Error (MRP)\")\n",
    "# add background shading to indicate the first half of the simulation as nadir pointing and the second half as sun pointing\n",
    "ax.axvspan(0, duration, color='gray', alpha=0.1)\n",
    "ax.axvspan(duration, 2 * duration, color='yellow', alpha=0.1)\n",
    "# add a legend\n",
    "ax.legend([\"Sun Pointing Attitude Error\", \"Nadir Attitude Error\", \"Nadir Pointing\", \"Sun Pointing\"])\n"
   ]
  }
 ],
 "metadata": {
  "kernelspec": {
   "display_name": "Python 3",
   "language": "python",
   "name": "python3"
  },
  "language_info": {
   "codemirror_mode": {
    "name": "ipython",
    "version": 3
   },
   "file_extension": ".py",
   "mimetype": "text/x-python",
   "name": "python",
   "nbconvert_exporter": "python",
   "pygments_lexer": "ipython3",
   "version": "3.11.2"
  }
 },
 "nbformat": 4,
 "nbformat_minor": 5
}
