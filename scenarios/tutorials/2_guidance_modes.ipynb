{
 "cells": [
  {
   "cell_type": "markdown",
   "id": "52875bc216d1f78",
   "metadata": {
    "collapsed": false
   },
   "source": [
    "## Guidance Modes\n",
    "In this demo, you will learn how to use the guidance computer demonstrated in the previous tutorial to dynamically change the pointing mode of the spacecraft. This demo involves:\n",
    "1. Extending the simulation case created within the Quick Start Demo to change the pointing mode associated with the guidance computer.\n",
    "2. Sequential propagation of the spacecraft and orbit state.\n",
    "3. Plot the error in attitude between the actual and target attitude defined as Modified Rodrigues Paramaters."
   ]
  },
  {
   "cell_type": "code",
   "execution_count": 9,
   "id": "d2156ae4b9d5bd53",
   "metadata": {
    "ExecuteTime": {
     "end_time": "2024-09-04T07:31:08.812059Z",
     "start_time": "2024-09-04T07:31:08.057195Z"
    },
    "collapsed": false
   },
   "outputs": [],
   "source": [
    "# zendir imports\n",
    "from zendir import Credentials, Simulation, System, Object\n",
    "from zendir.maths import astro\n",
    "# other imports\n",
    "from datetime import datetime\n",
    "import numpy as np\n",
    "import matplotlib.pyplot as plt"
   ]
  },
  {
   "cell_type": "markdown",
   "id": "b6ff90f7cbea40f7",
   "metadata": {
    "collapsed": false
   },
   "source": [
    "### Authenticate your zendir access\n"
   ]
  },
  {
   "cell_type": "code",
   "execution_count": null,
   "id": "e0d7825661537572",
   "metadata": {
    "ExecuteTime": {
     "end_time": "2024-09-04T07:31:09.115127Z",
     "start_time": "2024-09-04T07:31:08.812958Z"
    },
    "collapsed": false
   },
   "outputs": [],
   "source": [
    "# Construct the credentials\n",
    "credentials = Credentials(access=\"API ACCESS KEY\")\n",
    "\n",
    "simulation: Simulation = Simulation.get(credentials)"
   ]
  },
  {
   "cell_type": "markdown",
   "id": "7d4b224053b2ef41",
   "metadata": {
    "collapsed": false
   },
   "source": [
    "### Setup the spacecraft and components\n",
    "The following cells configure the spacecraft and its components. For more details, please refer to the Quick Start demo."
   ]
  },
  {
   "cell_type": "code",
   "execution_count": 11,
   "id": "98aa9bb297141f2d",
   "metadata": {
    "ExecuteTime": {
     "end_time": "2024-09-04T07:31:09.322950Z",
     "start_time": "2024-09-04T07:31:09.116090Z"
    },
    "collapsed": false
   },
   "outputs": [],
   "source": [
    "# universe configuration parameters\n",
    "epoch = datetime(2023, 1, 1)\n",
    "\n",
    "# get the universe associated with our simulation, setting it with a desired epoch\n",
    "universe: System = simulation.get_system(\n",
    "    \"SolarSystem\",\n",
    "    Epoch=epoch\n",
    ")"
   ]
  },
  {
   "cell_type": "code",
   "execution_count": 12,
   "id": "8aec97f48e1650",
   "metadata": {
    "ExecuteTime": {
     "end_time": "2024-09-04T07:31:09.329409Z",
     "start_time": "2024-09-04T07:31:09.324963Z"
    },
    "collapsed": false
   },
   "outputs": [],
   "source": [
    "# satellite configuration parameters\n",
    "mass = 750  # kg\n",
    "center_of_mass = np.array([0.0, 0.0, 0.0])  # m\n",
    "moment_of_inertia = np.diag([900, 800, 600])  # kg m^2\n",
    "\n",
    "semi_major_axis = 7000e3  # m\n",
    "eccentricity = 0.001\n",
    "inclination = 97.5  # deg\n",
    "raan = 5  # deg\n",
    "arg_perigee = 10  # deg\n",
    "true_anomaly = 20  # deg\n",
    "\n",
    "# initial attitude and rate, defined in modified rodriquez parameters\n",
    "attitude = np.array([0.1, 0.2, -0.3])\n",
    "attitude_rate = np.array([0.001, -0.01, 0.03])"
   ]
  },
  {
   "cell_type": "code",
   "execution_count": 13,
   "id": "1e841f0b887b5fd0",
   "metadata": {
    "ExecuteTime": {
     "end_time": "2024-09-04T07:31:09.435306Z",
     "start_time": "2024-09-04T07:31:09.330414Z"
    },
    "collapsed": false
   },
   "outputs": [],
   "source": [
    "# convert the classical orbital elements to state vectors, using zendir's utility functions, to help initialise the orbit\n",
    "orbit: tuple = astro.classical_to_vector_elements_deg(\n",
    "    semi_major_axis=semi_major_axis,\n",
    "    eccentricity=eccentricity,\n",
    "    inclination=inclination,\n",
    "    right_ascension=raan,\n",
    "    argument_of_periapsis=arg_perigee,\n",
    "    true_anomaly=true_anomaly,\n",
    ")\n",
    "\n",
    "# add the satellite object to the simulation\n",
    "# zendir can either hard-set the mass, center of mass, and moment of inertia properties of the spacecraft; or calculate them based on attached components. In this simple case, we will hard-set the by setting the OverrideMass property to True.\n",
    "spacecraft: Object = simulation.add_object(\n",
    "    \"Spacecraft\",\n",
    "    TotalMass=mass,\n",
    "    TotalCenterOfMassB_B=center_of_mass,  # com of mass of the spacecraft in the body frame\n",
    "    TotalMomentOfInertiaB_B=moment_of_inertia,  # moment of inertia of the spacecraft in the body frame\n",
    "    OverrideMass=True,\n",
    "    Position=orbit[0],\n",
    "    Velocity=orbit[1],\n",
    "    Attitude=attitude,\n",
    "    AttitudeRate=attitude_rate,\n",
    ")"
   ]
  },
  {
   "cell_type": "code",
   "execution_count": 14,
   "id": "65b2c6b2adaddcd4",
   "metadata": {
    "ExecuteTime": {
     "end_time": "2024-09-04T07:31:10.052807Z",
     "start_time": "2024-09-04T07:31:09.436310Z"
    },
    "collapsed": false
   },
   "outputs": [],
   "source": [
    "# Adds a reaction wheel array as a child component of the spacecraft. The reaction wheel array makes tracking data for individual reaction wheels much easier.\n",
    "reaction_wheels: Object = spacecraft.add_child(\"ReactionWheelArray\")\n",
    "\n",
    "# Adds individual reaction wheels to the reaction wheel array using the same add_child method. The reaction wheels are initialised within default properties such as max wheel speed, max torque, etc... These properties can be overridden by setting the desired properties in the add_child method. In this case, we set the wheel spin axes to be aligned with the body frame axes.\n",
    "rw1: Object = reaction_wheels.add_child(\n",
    "    \"ReactionWheel\",\n",
    "    WheelSpinAxis_B=np.array([1, 0, 0])\n",
    ")\n",
    "rw2: Object = reaction_wheels.add_child(\n",
    "    \"ReactionWheel\",\n",
    "    WheelSpinAxis_B=np.array([0, 1, 0])\n",
    ")\n",
    "rw3: Object = reaction_wheels.add_child(\n",
    "    \"ReactionWheel\",\n",
    "    WheelSpinAxis_B=np.array([0, 0, 1])\n",
    ")\n",
    "\n",
    "# Adds a guidance computer which will automatically link to the reaction wheels. The guidance computer contains attitude control algorithms and can be used to conveniently set to different pointing modes.\n",
    "computer: Object = spacecraft.add_child(\"GuidanceComputer\")\n",
    "\n",
    "# Assign the message to the computer\n",
    "computer.set(\n",
    "    PointingMode=\"Nadir\",\n",
    "    ControllerMode=\"MRP\",\n",
    "    MappingMode=\"ReactionWheels\",\n",
    ")"
   ]
  },
  {
   "cell_type": "code",
   "execution_count": 15,
   "id": "4f1e1712e4727a54",
   "metadata": {
    "ExecuteTime": {
     "end_time": "2024-09-04T07:31:14.606391Z",
     "start_time": "2024-09-04T07:31:10.053812Z"
    },
    "collapsed": false
   },
   "outputs": [],
   "source": [
    "# subscribe to the data\n",
    "# set the interval (in seconds) at which data is polled.\n",
    "simulation.set_tracking_interval(interval=30)\n",
    "\n",
    "# each object, system, and simulation contain data messages that can be subscribed to. Messages associated with each object can be found in the zendir documentation.\n",
    "simulation.track_object(computer.get_message(\"Out_AttitudeErrorMsg\"))\n",
    "simulation.track_object(spacecraft.get_message(\"Out_SpacecraftStateMsg\"))\n",
    "simulation.track_object(computer.get_message(\"Out_GuidanceChainMsg\"))"
   ]
  },
  {
   "cell_type": "code",
   "execution_count": 16,
   "id": "7092d3f64c6d44d0",
   "metadata": {
    "ExecuteTime": {
     "end_time": "2024-09-04T07:31:16.362879Z",
     "start_time": "2024-09-04T07:31:14.608400Z"
    },
    "collapsed": false
   },
   "outputs": [],
   "source": [
    "duration = 864  # sec\n",
    "time_step = 0.1  # sec\n",
    "simulation.tick_duration(step=time_step, time=duration)"
   ]
  },
  {
   "cell_type": "markdown",
   "id": "2c92d9e0cd830415",
   "metadata": {
    "collapsed": false
   },
   "source": [
    "---\n",
    "## 1. Changing the Pointing Mode\n",
    "Any property of a component can be updated by using the .set(PropertyName=PropertyValue) method from the object itself. In this case, we use this method to set the value of the PointingMode property of the GuidanceComputer. For more information on what properties are available for a given component, please refer to the API Reference guide at www.nominalsys.com"
   ]
  },
  {
   "cell_type": "code",
   "execution_count": 17,
   "id": "6b5fbcef86cc79e1",
   "metadata": {
    "ExecuteTime": {
     "end_time": "2024-09-04T07:31:16.461397Z",
     "start_time": "2024-09-04T07:31:16.363897Z"
    },
    "collapsed": false
   },
   "outputs": [],
   "source": [
    "computer.set(PointingMode=\"Sun\")"
   ]
  },
  {
   "cell_type": "markdown",
   "id": "47db1090734c689",
   "metadata": {
    "collapsed": false
   },
   "source": [
    "---\n",
    "## 2. Sequential Propagation\n",
    "Simulations can propagated forward in time in steps by calling tick_duration again. This will propagate the state of the spacecraft from that resulting from the most previous propagation, except where changes have been made to the simulation configuration. In this case, the simulation will propagate the state of the spacecraft and its orbit from the final state from the previous .tick_duration call, except now the PointingMode has been updated to Sun pointing."
   ]
  },
  {
   "cell_type": "code",
   "execution_count": 18,
   "id": "f0bbc07b37f448b6",
   "metadata": {
    "ExecuteTime": {
     "end_time": "2024-09-04T07:31:17.923812Z",
     "start_time": "2024-09-04T07:31:16.463937Z"
    },
    "collapsed": false
   },
   "outputs": [],
   "source": [
    "simulation.tick_duration(step=time_step, time=duration)"
   ]
  },
  {
   "cell_type": "code",
   "execution_count": 19,
   "id": "ec0af42bda438f96",
   "metadata": {
    "ExecuteTime": {
     "end_time": "2024-09-04T07:31:19.509468Z",
     "start_time": "2024-09-04T07:31:17.924777Z"
    },
    "collapsed": false
   },
   "outputs": [],
   "source": [
    "computer.set(PointingMode=\"Velocity\")\n",
    "simulation.tick_duration(step=time_step, time=duration)"
   ]
  },
  {
   "cell_type": "code",
   "execution_count": 20,
   "id": "8ee386f5c9cc69",
   "metadata": {
    "ExecuteTime": {
     "end_time": "2024-09-04T07:31:21.100157Z",
     "start_time": "2024-09-04T07:31:19.510483Z"
    },
    "collapsed": false
   },
   "outputs": [],
   "source": [
    "computer.set(PointingMode=\"Inertial\")\n",
    "simulation.tick_duration(step=time_step, time=duration)"
   ]
  },
  {
   "cell_type": "markdown",
   "id": "36e640d9f5ec8fcf",
   "metadata": {
    "collapsed": false
   },
   "source": [
    "---\n",
    "## 3. Plot the Attitude Error\n",
    "The plots below show the instantaneous change in desired pointing modes, as well as the response of the attitude determination and control system.\n",
    "\n",
    "Data queried will span all data generated for all \"tick_duration\" calls"
   ]
  },
  {
   "cell_type": "code",
   "execution_count": 21,
   "id": "c40f330465c9a454",
   "metadata": {
    "ExecuteTime": {
     "end_time": "2024-09-04T07:31:21.438379Z",
     "start_time": "2024-09-04T07:31:21.102682Z"
    },
    "collapsed": false
   },
   "outputs": [
    {
     "data": {
      "image/png": "[encoded data removed]",
      "text/plain": [
       "<Figure size 640x480 with 1 Axes>"
      ]
     },
     "metadata": {},
     "output_type": "display_data"
    }
   ],
   "source": [
    "df_att_error = simulation.query_dataframe(computer.get_message(\"Out_AttitudeErrorMsg\"))\n",
    "df_ops_modes = simulation.query_dataframe(computer.get_message(\"Out_GuidanceChainMsg\"))\n",
    "\n",
    "# get the rows where the mode changes\n",
    "df_ops_modes_diff = df_ops_modes[df_ops_modes[\"PointingMode\"] != df_ops_modes[\"PointingMode\"].shift(1)]\n",
    "\n",
    "fig, ax = plt.subplots()\n",
    "ax.plot(df_att_error.loc[:, \"Time\"], df_att_error.loc[:, \"Sigma_BR_0\"], label=\"Attitude Error: X\")\n",
    "ax.plot(df_att_error.loc[:, \"Time\"], df_att_error.loc[:, \"Sigma_BR_1\"], label=\"Attitude Error: Y\")\n",
    "ax.plot(df_att_error.loc[:, \"Time\"], df_att_error.loc[:, \"Sigma_BR_2\"], label=\"Attitude Error: Z\")\n",
    "ax.set_xlabel(\"Time (s)\")\n",
    "ax.set_ylabel(\"Attitude Error\")\n",
    "ax.set_title(\"Attitude Error with Operations Mode\")\n",
    "ax.legend()\n",
    "\n",
    "# add the background shading for the operations mode\n",
    "for i in range(0, len(df_ops_modes_diff)):\n",
    "    if i == len(df_ops_modes_diff) - 1:\n",
    "        x = df_ops_modes_diff.loc[:, \"Time\"].iloc[i]\n",
    "        y = df_ops_modes.loc[:, \"Time\"].iloc[-1]\n",
    "    else:\n",
    "        x = df_ops_modes_diff.loc[:, \"Time\"].iloc[i]\n",
    "        y = df_ops_modes_diff.loc[:, \"Time\"].iloc[i+1]\n",
    "        \n",
    "    ax.axvspan(x, y, color=f\"C{i}\", alpha=0.15)\n",
    "    # annotate the mode, placing the text at the left edge of the shaded region\n",
    "    min_x = np.min(df_att_error.loc[:, \"Sigma_BR_0\"])\n",
    "    ax.text(df_ops_modes_diff.loc[:, \"Time\"].iloc[i], min_x, df_ops_modes_diff.loc[:, \"PointingMode\"].iloc[i], rotation=90)\n",
    "\n",
    "plt.show()"
   ]
  }
 ],
 "metadata": {
  "kernelspec": {
   "display_name": "Python 3",
   "language": "python",
   "name": "python3"
  },
  "language_info": {
   "codemirror_mode": {
    "name": "ipython",
    "version": 3
   },
   "file_extension": ".py",
   "mimetype": "text/x-python",
   "name": "python",
   "nbconvert_exporter": "python",
   "pygments_lexer": "ipython3",
   "version": "3.11.2"
  }
 },
 "nbformat": 4,
 "nbformat_minor": 5
}
